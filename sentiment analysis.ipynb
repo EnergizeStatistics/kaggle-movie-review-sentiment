{
 "cells": [
  {
   "cell_type": "markdown",
   "metadata": {},
   "source": [
    "# Non-deep-learning Sentiment Classification #"
   ]
  },
  {
   "cell_type": "markdown",
   "metadata": {},
   "source": [
    "## Prepare tools ##"
   ]
  },
  {
   "cell_type": "code",
   "execution_count": 21,
   "metadata": {},
   "outputs": [],
   "source": [
    "# utility\n",
    "import pandas as pd\n",
    "import numpy as np\n",
    "\n",
    "import urllib.request # download files\n",
    "\n",
    "from collections import Counter\n",
    "########\n",
    "\n",
    "# text pre-processing\n",
    "from bs4 import BeautifulSoup # remove HTML tags\n",
    "import nltk # natural language processing\n",
    "\n",
    "from nltk.corpus import stopwords, wordnet # stop words\n",
    "\n",
    "from nltk.stem.snowball import SnowballStemmer # stemming\n",
    "from nltk import pos_tag, word_tokenize # identify POS tag, required by lemmatizer\n",
    "from nltk.stem import WordNetLemmatizer # lemmatization\n",
    "########\n",
    "\n",
    "# feature extraction\n",
    "from sklearn.feature_extraction.text import CountVectorizer\n",
    "from sklearn.feature_extraction import FeatureHasher\n",
    "########\n",
    "\n",
    "from sklearn.model_selection import train_test_split\n",
    "########\n",
    "\n",
    "# supervised learning model\n",
    "from sklearn.linear_model import LogisticRegression\n",
    "from sklearn.naive_bayes import MultinomialNB\n",
    "from sklearn.ensemble import RandomForestClassifier\n",
    "########\n",
    "\n",
    "# processing time\n",
    "import timeit\n",
    "########\n",
    "\n",
    "from sklearn.metrics import roc_auc_score"
   ]
  },
  {
   "cell_type": "markdown",
   "metadata": {},
   "source": [
    "**Resources to be downloaded with `nltk` downloader:**\n",
    "-  `stopwords` - stop words list\n",
    "-  `wordnet` - lemmatization\n",
    "-  `punkt` - tokenization\n",
    "-  `averaged_perceptron_tagger` - POS tag of tokens"
   ]
  },
  {
   "cell_type": "code",
   "execution_count": 3,
   "metadata": {},
   "outputs": [
    {
     "name": "stdout",
     "output_type": "stream",
     "text": [
      "[nltk_data] Downloading package stopwords to\n",
      "[nltk_data]     /home/lee/Documents/Datasets for\n",
      "[nltk_data]     GitHub/kaggle_movie_sentiment_analysis/...\n",
      "[nltk_data]   Package stopwords is already up-to-date!\n",
      "[nltk_data] Downloading package wordnet to\n",
      "[nltk_data]     /home/lee/Documents/Datasets for\n",
      "[nltk_data]     GitHub/kaggle_movie_sentiment_analysis/...\n",
      "[nltk_data]   Package wordnet is already up-to-date!\n",
      "[nltk_data] Downloading package punkt to /home/lee/Documents/Datasets\n",
      "[nltk_data]     for GitHub/kaggle_movie_sentiment_analysis/...\n",
      "[nltk_data]   Package punkt is already up-to-date!\n",
      "[nltk_data] Downloading package averaged_perceptron_tagger to\n",
      "[nltk_data]     /home/lee/Documents/Datasets for\n",
      "[nltk_data]     GitHub/kaggle_movie_sentiment_analysis/...\n",
      "[nltk_data]   Package averaged_perceptron_tagger is already up-to-\n",
      "[nltk_data]       date!\n"
     ]
    },
    {
     "data": {
      "text/plain": [
       "True"
      ]
     },
     "execution_count": 3,
     "metadata": {},
     "output_type": "execute_result"
    }
   ],
   "source": [
    "working_dir = \"/home/lee/Documents/Datasets for GitHub/kaggle_movie_sentiment_analysis/\"\n",
    "\n",
    "# download to working directory\n",
    "nltk.download(['stopwords', 'wordnet', 'punkt', 'averaged_perceptron_tagger'], download_dir=working_dir)"
   ]
  },
  {
   "cell_type": "markdown",
   "metadata": {},
   "source": [
    "## Inspect data ##"
   ]
  },
  {
   "cell_type": "code",
   "execution_count": 4,
   "metadata": {},
   "outputs": [],
   "source": [
    "labeledTrain = pd.read_csv(working_dir+\"labeledTrainData.tsv\", delimiter=\"\\t\", quoting=3)\n",
    "# unlabeledTrain = pd.read_csv(working_dir+\"unlabeledTrainData.tsv\", delimiter=\"\\t\", quoting=3)\n",
    "# test = pd.read_csv(working_dir+\"testData.tsv\", delimiter=\"\\t\", quoting=3)"
   ]
  },
  {
   "cell_type": "code",
   "execution_count": 5,
   "metadata": {},
   "outputs": [
    {
     "name": "stdout",
     "output_type": "stream",
     "text": [
      "Labeled dataset size: (25000, 3)\n",
      "Inspect labeled dataset:\n",
      "          id  sentiment                                             review\n",
      "0  \"5814_8\"          1  \"With all this stuff going down at the moment ...\n",
      "1  \"2381_9\"          1  \"\\\"The Classic War of the Worlds\\\" by Timothy ...\n",
      "2  \"7759_3\"          0  \"The film starts with a manager (Nicholas Bell...\n",
      "3  \"3630_4\"          0  \"It must be assumed that those who praised thi...\n",
      "4  \"9495_8\"          1  \"Superbly trashy and wondrously unpretentious ...\n"
     ]
    }
   ],
   "source": [
    "print('Labeled dataset size: {}'.format(labeledTrain.shape))\n",
    "print('Inspect labeled dataset:\\n {}'.format(labeledTrain.head()))"
   ]
  },
  {
   "cell_type": "markdown",
   "metadata": {},
   "source": [
    "**Reviews are long; access the very first review as a scalar to inspect it. **"
   ]
  },
  {
   "cell_type": "code",
   "execution_count": 6,
   "metadata": {},
   "outputs": [
    {
     "data": {
      "text/plain": [
       "'\"With all this stuff going down at the moment with MJ i\\'ve started listening to his music, watching the odd documentary here and there, watched The Wiz and watched Moonwalker again. Maybe i just want to get a certain insight into this guy who i thought was really cool in the eighties just to maybe make up my mind whether he is guilty or innocent. Moonwalker is part biography, part feature film which i remember going to see at the cinema when it was originally released. Some of it has subtle messages about MJ\\'s feeling towards the press and also the obvious message of drugs are bad m\\'kay.<br /><br />Visually impressive but of course this is all about Michael Jackson so unless you remotely like MJ in anyway then you are going to hate this and find it boring. Some may call MJ an egotist for consenting to the making of this movie BUT MJ and most of his fans would say that he made it for the fans which if true is really nice of him.<br /><br />The actual feature film bit when it finally starts is only on for 20 minutes or so excluding the Smooth Criminal sequence and Joe Pesci is convincing as a psychopathic all powerful drug lord. Why he wants MJ dead so bad is beyond me. Because MJ overheard his plans? Nah, Joe Pesci\\'s character ranted that he wanted people to know it is he who is supplying drugs etc so i dunno, maybe he just hates MJ\\'s music.<br /><br />Lots of cool things in this like MJ turning into a car and a robot and the whole Speed Demon sequence. Also, the director must have had the patience of a saint when it came to filming the kiddy Bad sequence as usually directors hate working with one kid let alone a whole bunch of them performing a complex dance scene.<br /><br />Bottom line, this movie is for people who like MJ on one level or another (which i think is most people). If not, then stay away. It does try and give off a wholesome message and ironically MJ\\'s bestest buddy in this movie is a girl! Michael Jackson is truly one of the most talented people ever to grace this planet but is he guilty? Well, with all the attention i\\'ve gave this subject....hmmm well i don\\'t know because people can be different behind closed doors, i know this for a fact. He is either an extremely nice but stupid guy or one of the most sickest liars. I hope he is not the latter.\"'"
      ]
     },
     "execution_count": 6,
     "metadata": {},
     "output_type": "execute_result"
    }
   ],
   "source": [
    "labeledTrain.loc[0,'review']"
   ]
  },
  {
   "cell_type": "markdown",
   "metadata": {},
   "source": [
    "## Preprocess the textual data"
   ]
  },
  {
   "cell_type": "markdown",
   "metadata": {},
   "source": [
    "**Need to clean the punctuations, stop words, and HTML tags, split sentences into individual words, convert all words to lower case and lemmatize them.**"
   ]
  },
  {
   "cell_type": "markdown",
   "metadata": {},
   "source": [
    "** `nltk.data.path` is a list of locations to search for the downloaded files `nltk` needs. Earlier we downloaded those files to the working directory rather than any of its defaults. **"
   ]
  },
  {
   "cell_type": "code",
   "execution_count": 7,
   "metadata": {},
   "outputs": [],
   "source": [
    "nltk.data.path.append(working_dir)\n",
    "\n",
    "# remove html\n",
    "labeledTrain['removehtml'] = labeledTrain['review'].apply(lambda x: BeautifulSoup(x, \"html5lib\").text)\n",
    "\n",
    "# remove punctuation\n",
    "labeledTrain['removepunc'] = labeledTrain['removehtml'].str.replace('[^\\w\\s]',' ')\n",
    "\n",
    "# lower casing\n",
    "labeledTrain['lower'] = labeledTrain['removepunc'].str.lower()\n",
    "\n",
    "# tokenize and lemmatize\n",
    "# adjective, satellite adjective, adverb, noun, verb = 'a', 's', 'r', 'n', 'v'\n",
    "def lemmatize_after_pos(review):\n",
    "    lemma_review = []\n",
    "    for word, tag in pos_tag(word_tokenize(review)):\n",
    "        wntag = tag[0].lower()\n",
    "        wntag = wntag if wntag in ['a', 'r', 'n', 'v'] else None\n",
    "        lemma = WordNetLemmatizer().lemmatize(word, wntag) if wntag else word\n",
    "        lemma_review.append(lemma)\n",
    "    return lemma_review\n",
    "\n",
    "labeledTrain['lemmatized'] = labeledTrain['lower'].apply(lambda x: lemmatize_after_pos(x))\n",
    "\n",
    "# remove stopwords\n",
    "stop = stopwords.words('english')\n",
    "labeledTrain['removestop'] = labeledTrain['lemmatized'].apply(lambda x: [item for item in x if item not in stop])\n",
    "\n",
    "labeledTrain['processed_review'] = labeledTrain['removestop']"
   ]
  },
  {
   "cell_type": "markdown",
   "metadata": {},
   "source": [
    "**Inspect the results. **"
   ]
  },
  {
   "cell_type": "code",
   "execution_count": 8,
   "metadata": {},
   "outputs": [
    {
     "data": {
      "text/plain": [
       "['stuff',\n",
       " 'go',\n",
       " 'moment',\n",
       " 'mj',\n",
       " 'start',\n",
       " 'listen',\n",
       " 'music',\n",
       " 'watch',\n",
       " 'odd',\n",
       " 'documentary',\n",
       " 'watch',\n",
       " 'wiz',\n",
       " 'watch',\n",
       " 'moonwalker',\n",
       " 'maybe',\n",
       " 'want',\n",
       " 'get',\n",
       " 'certain',\n",
       " 'insight',\n",
       " 'guy',\n",
       " 'think',\n",
       " 'really',\n",
       " 'cool',\n",
       " 'eighty',\n",
       " 'maybe',\n",
       " 'make',\n",
       " 'mind',\n",
       " 'whether',\n",
       " 'guilty',\n",
       " 'innocent',\n",
       " 'moonwalker',\n",
       " 'part',\n",
       " 'biography',\n",
       " 'part',\n",
       " 'feature',\n",
       " 'film',\n",
       " 'remember',\n",
       " 'go',\n",
       " 'see',\n",
       " 'cinema',\n",
       " 'originally',\n",
       " 'release',\n",
       " 'subtle',\n",
       " 'message',\n",
       " 'mj',\n",
       " 'feeling',\n",
       " 'towards',\n",
       " 'press',\n",
       " 'also',\n",
       " 'obvious',\n",
       " 'message',\n",
       " 'drug',\n",
       " 'bad',\n",
       " 'kay',\n",
       " 'visually',\n",
       " 'impressive',\n",
       " 'course',\n",
       " 'michael',\n",
       " 'jackson',\n",
       " 'unless',\n",
       " 'remotely',\n",
       " 'like',\n",
       " 'mj',\n",
       " 'anyway',\n",
       " 'go',\n",
       " 'hate',\n",
       " 'find',\n",
       " 'bore',\n",
       " 'may',\n",
       " 'call',\n",
       " 'mj',\n",
       " 'egotist',\n",
       " 'consent',\n",
       " 'making',\n",
       " 'movie',\n",
       " 'mj',\n",
       " 'fan',\n",
       " 'would',\n",
       " 'say',\n",
       " 'make',\n",
       " 'fan',\n",
       " 'true',\n",
       " 'really',\n",
       " 'nice',\n",
       " 'actual',\n",
       " 'feature',\n",
       " 'film',\n",
       " 'bit',\n",
       " 'finally',\n",
       " 'start',\n",
       " '20',\n",
       " 'minute',\n",
       " 'exclude',\n",
       " 'smooth',\n",
       " 'criminal',\n",
       " 'sequence',\n",
       " 'joe',\n",
       " 'pesci',\n",
       " 'convince',\n",
       " 'psychopathic',\n",
       " 'powerful',\n",
       " 'drug',\n",
       " 'lord',\n",
       " 'want',\n",
       " 'mj',\n",
       " 'dead',\n",
       " 'bad',\n",
       " 'beyond',\n",
       " 'mj',\n",
       " 'overheard',\n",
       " 'plan',\n",
       " 'nah',\n",
       " 'joe',\n",
       " 'pesci',\n",
       " 'character',\n",
       " 'rant',\n",
       " 'want',\n",
       " 'people',\n",
       " 'know',\n",
       " 'supply',\n",
       " 'drug',\n",
       " 'etc',\n",
       " 'dunno',\n",
       " 'maybe',\n",
       " 'hat',\n",
       " 'mj',\n",
       " 'music',\n",
       " 'lot',\n",
       " 'cool',\n",
       " 'thing',\n",
       " 'like',\n",
       " 'mj',\n",
       " 'turn',\n",
       " 'car',\n",
       " 'robot',\n",
       " 'whole',\n",
       " 'speed',\n",
       " 'demon',\n",
       " 'sequence',\n",
       " 'also',\n",
       " 'director',\n",
       " 'must',\n",
       " 'patience',\n",
       " 'saint',\n",
       " 'come',\n",
       " 'film',\n",
       " 'kiddy',\n",
       " 'bad',\n",
       " 'sequence',\n",
       " 'usually',\n",
       " 'director',\n",
       " 'hate',\n",
       " 'work',\n",
       " 'one',\n",
       " 'kid',\n",
       " 'let',\n",
       " 'alone',\n",
       " 'whole',\n",
       " 'bunch',\n",
       " 'perform',\n",
       " 'complex',\n",
       " 'dance',\n",
       " 'scene',\n",
       " 'bottom',\n",
       " 'line',\n",
       " 'movie',\n",
       " 'people',\n",
       " 'like',\n",
       " 'mj',\n",
       " 'one',\n",
       " 'level',\n",
       " 'another',\n",
       " 'think',\n",
       " 'people',\n",
       " 'stay',\n",
       " 'away',\n",
       " 'try',\n",
       " 'give',\n",
       " 'wholesome',\n",
       " 'message',\n",
       " 'ironically',\n",
       " 'mj',\n",
       " 'bestest',\n",
       " 'buddy',\n",
       " 'movie',\n",
       " 'girl',\n",
       " 'michael',\n",
       " 'jackson',\n",
       " 'truly',\n",
       " 'one',\n",
       " 'talented',\n",
       " 'people',\n",
       " 'ever',\n",
       " 'grace',\n",
       " 'planet',\n",
       " 'guilty',\n",
       " 'well',\n",
       " 'attention',\n",
       " 'give',\n",
       " 'subject',\n",
       " 'hmmm',\n",
       " 'well',\n",
       " 'know',\n",
       " 'people',\n",
       " 'different',\n",
       " 'behind',\n",
       " 'closed',\n",
       " 'door',\n",
       " 'know',\n",
       " 'fact',\n",
       " 'either',\n",
       " 'extremely',\n",
       " 'nice',\n",
       " 'stupid',\n",
       " 'guy',\n",
       " 'one',\n",
       " 'sickest',\n",
       " 'liar',\n",
       " 'hope',\n",
       " 'latter']"
      ]
     },
     "execution_count": 8,
     "metadata": {},
     "output_type": "execute_result"
    }
   ],
   "source": [
    "labeledTrain.loc[0, 'processed_review']"
   ]
  },
  {
   "cell_type": "code",
   "execution_count": 9,
   "metadata": {},
   "outputs": [],
   "source": [
    "labeledTrain.drop(['removehtml', 'lemmatized', 'removepunc', 'lower', 'removestop'], axis=1, inplace=True)"
   ]
  },
  {
   "cell_type": "code",
   "execution_count": 10,
   "metadata": {},
   "outputs": [
    {
     "data": {
      "text/plain": [
       "Index(['id', 'sentiment', 'review', 'processed_review'], dtype='object')"
      ]
     },
     "execution_count": 10,
     "metadata": {},
     "output_type": "execute_result"
    }
   ],
   "source": [
    "labeledTrain.columns"
   ]
  },
  {
   "cell_type": "markdown",
   "metadata": {},
   "source": [
    "## Construct features"
   ]
  },
  {
   "cell_type": "markdown",
   "metadata": {},
   "source": [
    "**Identify sentiment of individual words **"
   ]
  },
  {
   "cell_type": "code",
   "execution_count": 11,
   "metadata": {},
   "outputs": [
    {
     "name": "stdout",
     "output_type": "stream",
     "text": [
      "First 10 positive words: \n",
      " ['abidance', 'abidance', 'abilities', 'ability', 'able', 'above', 'above-average', 'abundant', 'abundance', 'acceptance']\n",
      "First 10 negative words: \n",
      " ['abandoned', 'abandonment', 'aberration', 'aberration', 'abhorred', 'abhorrence', 'abhorrent', 'abhorrently', 'abhors', 'abhors']\n"
     ]
    }
   ],
   "source": [
    "# download lexicon\n",
    "urllib.request.urlretrieve('http://www.unc.edu/~ncaren/haphazard/negative.txt', working_dir+\"/negative.txt\")\n",
    "urllib.request.urlretrieve('http://www.unc.edu/~ncaren/haphazard/positive.txt', working_dir+\"/positive.txt\")\n",
    "########\n",
    "\n",
    "pos_sent = open(working_dir+'/positive.txt').read()\n",
    "positive_words = pos_sent.split('\\n')\n",
    "\n",
    "neg_sent = open(working_dir+'/negative.txt').read()\n",
    "negative_words = neg_sent.split('\\n')\n",
    "\n",
    "print('First 10 positive words: \\n {}'.format(positive_words[:10]))\n",
    "print('First 10 negative words: \\n {}'.format(negative_words[:10]))\n",
    "\n",
    "del pos_sent, neg_sent"
   ]
  },
  {
   "cell_type": "markdown",
   "metadata": {},
   "source": [
    "**Count the numbers of positive and negative words in a review. **"
   ]
  },
  {
   "cell_type": "code",
   "execution_count": 12,
   "metadata": {},
   "outputs": [],
   "source": [
    "# Intersect the list of a review with the list of positive/negative words. The result is a {word: frequency} dictionary.\n",
    "# Add up all the word frequencies in a review to get a total count.\n",
    "\n",
    "positive_counter = labeledTrain['processed_review'].apply(lambda x: Counter(x) & Counter(positive_words)) # The lambda function is the intersection of two counters\n",
    "positive_counts = positive_counter.apply(lambda x: sum(x.values()))\n",
    "\n",
    "negative_counter = labeledTrain['processed_review'].apply(lambda x: Counter(x) & Counter(negative_words))\n",
    "negative_counts = negative_counter.apply(lambda x: sum(x.values()))\n",
    "\n",
    "labeledTrain = pd.concat([labeledTrain, positive_counts.to_frame('positive_counts'), \\\n",
    "                          negative_counts.to_frame('negative_counts')], axis=1)\n",
    "\n",
    "del positive_counter, positive_counts, negative_counter, negative_counts"
   ]
  },
  {
   "cell_type": "markdown",
   "metadata": {},
   "source": [
    "**Bag of words**\n",
    "\n",
    "**Simplest bag of words, each word has a score of 1. **"
   ]
  },
  {
   "cell_type": "code",
   "execution_count": 13,
   "metadata": {},
   "outputs": [
    {
     "name": "stdout",
     "output_type": "stream",
     "text": [
      "Inspect 5 words in the vocabulary:\n",
      " {'stuff': 56009, 'go': 24420, 'moment': 38575, 'mj': 38375, 'start': 55253}\n"
     ]
    }
   ],
   "source": [
    "vectorizer = CountVectorizer()\n",
    "\n",
    "bow = vectorizer.fit_transform(labeledTrain['processed_review'].apply(lambda x: ' '.join(x)))\n",
    "\n",
    "print('Inspect 5 words in the vocabulary:\\n {}'\\\n",
    "      .format({k: vectorizer.vocabulary_[k] for k in list(vectorizer.vocabulary_)[:5]}))"
   ]
  },
  {
   "cell_type": "markdown",
   "metadata": {},
   "source": [
    "**Feature hashing**"
   ]
  },
  {
   "cell_type": "markdown",
   "metadata": {},
   "source": [
    "**Estimate the size of hashing space allowing 5% collision:**<br>\n",
    "**$n$ (hashing space size) = $20k$ (feature space size)** [formula reference](https://booking.ai/dont-be-tricked-by-the-hashing-trick-192a6aae3087)<br>\n",
    "[Raw bag of words with count as score](https://stackoverflow.com/questions/15507172/how-to-get-bag-of-words-from-textual-data)"
   ]
  },
  {
   "cell_type": "code",
   "execution_count": 15,
   "metadata": {},
   "outputs": [],
   "source": [
    "hashing_space_size = int(2**np.floor(np.log(20*bow.shape[1])/np.log(2)))\n",
    "\n",
    "raw_bagofwords = labeledTrain['processed_review'].apply(lambda row: Counter(row))\n",
    "\n",
    "hasher = FeatureHasher(n_features=2**20)#hashing_space_size)\n",
    "hashed = hasher.transform(raw_bagofwords)"
   ]
  },
  {
   "cell_type": "markdown",
   "metadata": {},
   "source": [
    "## Train models ##"
   ]
  },
  {
   "cell_type": "code",
   "execution_count": 16,
   "metadata": {},
   "outputs": [],
   "source": [
    "X_train, X_test, y_train, y_test = train_test_split(labeledTrain.drop(['sentiment'], axis=1), \\\n",
    "                                                    labeledTrain['sentiment'], test_size=0.33, \\\n",
    "                                                    random_state=0)\n",
    "\n",
    "index_train = X_train.index.tolist()\n",
    "index_test = X_test.index.tolist()\n",
    "\n",
    "X_train_bow = bow.tocsr()[index_train, :] # slice a sparse matrix by row\n",
    "X_test_bow = bow.tocsr()[index_test, :]\n",
    "\n",
    "X_train_fh = hashed.tocsr()[index_train, :] \n",
    "X_test_fh = hashed.tocsr()[index_test, :]"
   ]
  },
  {
   "cell_type": "markdown",
   "metadata": {},
   "source": [
    "### Logistic regression ###"
   ]
  },
  {
   "cell_type": "code",
   "execution_count": 23,
   "metadata": {},
   "outputs": [
    {
     "name": "stdout",
     "output_type": "stream",
     "text": [
      "Training time in seconds: 0.03848735394421965\n",
      "Training set accuracy: 0.7096716417910448\n",
      "Test set accuracy: 0.7064242424242424\n",
      "Test set AUC: 0.7698403966036869\n"
     ]
    }
   ],
   "source": [
    "logistic_counts = logistic_bow = logistic_fh = LogisticRegression()\n",
    "\n",
    "tic = timeit.default_timer()\n",
    "logistic_counts.fit(X_train.loc[:, ['positive_counts','negative_counts']], y_train)\n",
    "print(\"Training time in seconds: {}\".format(timeit.default_timer() - tic))\n",
    "\n",
    "print('Training set accuracy: {}'\\\n",
    "      .format(logistic_counts\\\n",
    "              .score(X_train.loc[:, ['positive_counts','negative_counts']], y_train)))\n",
    "print('Test set accuracy: {}'\\\n",
    "      .format(logistic_counts\\\n",
    "              .score(X_test.loc[:, ['positive_counts','negative_counts']], y_test)))\n",
    "print('Test set AUC: {}'\\\n",
    "      .format(roc_auc_score(y_test, \\\n",
    "                            logistic_counts.predict_proba\\\n",
    "                            (X_test.loc[:, ['positive_counts','negative_counts']])[:,1])))"
   ]
  },
  {
   "cell_type": "code",
   "execution_count": 24,
   "metadata": {},
   "outputs": [
    {
     "name": "stdout",
     "output_type": "stream",
     "text": [
      "Training time in seconds: 3.2100722460309044\n",
      "Training set accuracy: 0.9986268656716418\n",
      "Test set accuracy: 0.8752727272727273\n",
      "Test set AUC: 0.9379977302036263\n"
     ]
    }
   ],
   "source": [
    "tic = timeit.default_timer()\n",
    "logistic_bow.fit(X_train_bow, y_train)\n",
    "print(\"Training time in seconds: {}\".format(timeit.default_timer() - tic))\n",
    "\n",
    "print('Training set accuracy: {}'\\\n",
    "      .format(logistic_bow\\\n",
    "              .score(X_train_bow, y_train)))\n",
    "print('Test set accuracy: {}'\\\n",
    "      .format(logistic_bow\\\n",
    "              .score(X_test_bow, y_test)))\n",
    "print('Test set AUC: {}'\\\n",
    "      .format(roc_auc_score(y_test, \\\n",
    "                            logistic_bow.predict_proba\\\n",
    "                            (X_test_bow)[:,1])))"
   ]
  },
  {
   "cell_type": "code",
   "execution_count": 25,
   "metadata": {},
   "outputs": [
    {
     "name": "stdout",
     "output_type": "stream",
     "text": [
      "Training time in seconds: 8.690083815949038\n",
      "Training set accuracy: 0.9987462686567165\n",
      "Test set accuracy: 0.8772121212121212\n",
      "Test set AUC: 0.9401828309282648\n"
     ]
    }
   ],
   "source": [
    "tic = timeit.default_timer()\n",
    "logistic_fh.fit(X_train_fh, y_train)\n",
    "print(\"Training time in seconds: {}\".format(timeit.default_timer() - tic))\n",
    "\n",
    "print('Training set accuracy: {}'\\\n",
    "      .format(logistic_fh\\\n",
    "              .score(X_train_fh, y_train)))\n",
    "print('Test set accuracy: {}'\\\n",
    "      .format(logistic_fh\\\n",
    "              .score(X_test_fh, y_test)))\n",
    "print('Test set AUC: {}'\\\n",
    "      .format(roc_auc_score(y_test, \\\n",
    "                            logistic_fh.predict_proba\\\n",
    "                            (X_test_fh)[:,1])))"
   ]
  },
  {
   "cell_type": "markdown",
   "metadata": {},
   "source": [
    "### Naive Bayes classifier ###"
   ]
  },
  {
   "cell_type": "code",
   "execution_count": 26,
   "metadata": {},
   "outputs": [
    {
     "name": "stdout",
     "output_type": "stream",
     "text": [
      "Training time in seconds: 0.005976050975732505\n",
      "Multinomial naive Bayes, word counts as features\n",
      "Training set accuracy: 0.7094328358208956\n",
      "Test set accuracy: 0.704\n",
      "Test set AUC: 0.7682891907956695\n",
      "Training time in seconds: 0.02025564794894308\n",
      "Multinomial naive Bayes, bag of words\n",
      "Training set accuracy: 0.9154626865671642\n",
      "Test set accuracy: 0.8621818181818182\n",
      "Test set AUC: 0.9263147265632415\n"
     ]
    }
   ],
   "source": [
    "multinomial_nb_counts = multinomial_nb_bow = multinomial_nb_fh = MultinomialNB()\n",
    "\n",
    "tic = timeit.default_timer()\n",
    "multinomial_nb_counts.fit(X_train.loc[:, ['positive_counts','negative_counts']], y_train)\n",
    "print(\"Training time in seconds: {}\".format(timeit.default_timer() - tic))\n",
    "\n",
    "print('Multinomial naive Bayes, word counts as features')\n",
    "print('Training set accuracy: {}'\\\n",
    "      .format(multinomial_nb_counts\\\n",
    "              .score(X_train.loc[:, ['positive_counts','negative_counts']], y_train)))\n",
    "print('Test set accuracy: {}'\\\n",
    "      .format(multinomial_nb_counts\\\n",
    "              .score(X_test.loc[:, ['positive_counts','negative_counts']], y_test)))\n",
    "print('Test set AUC: {}'\\\n",
    "      .format(roc_auc_score(y_test, \\\n",
    "                            multinomial_nb_counts.predict_proba\\\n",
    "                            (X_test.loc[:, ['positive_counts','negative_counts']])[:,1])))\n",
    "\n",
    "print('Multinomial naive Bayes, bag of words')\n",
    "tic = timeit.default_timer()\n",
    "multinomial_nb_bow.fit(X_train_bow, y_train)\n",
    "print(\"Training time in seconds: {}\".format(timeit.default_timer() - tic))\n",
    "\n",
    "\n",
    "print('Training set accuracy: {}'\\\n",
    "      .format(multinomial_nb_bow\\\n",
    "              .score(X_train_bow, y_train)))\n",
    "print('Test set accuracy: {}'\\\n",
    "      .format(multinomial_nb_bow\\\n",
    "              .score(X_test_bow, y_test)))\n",
    "print('Test set AUC: {}'\\\n",
    "      .format(roc_auc_score(y_test, \\\n",
    "                            multinomial_nb_bow.predict_proba\\\n",
    "                            (X_test_bow)[:,1])))"
   ]
  },
  {
   "cell_type": "markdown",
   "metadata": {},
   "source": [
    "**Feature hashing generates a matrix where some elements are negative. Multinomial naive Bayes requires the input matrix to be non-negative so I did not train a multinomial naive Bayes model on the hashed features. **"
   ]
  },
  {
   "cell_type": "markdown",
   "metadata": {},
   "source": [
    "Conclusion: Naive Bayes takes less time to train and has similar performance to logistic regression. Feature hashing appears promising and I need to do more analyses with it to actually see its advantages and disadvantages. "
   ]
  }
 ],
 "metadata": {
  "anaconda-cloud": {},
  "kernelspec": {
   "display_name": "Python 3",
   "language": "python",
   "name": "python3"
  },
  "language_info": {
   "codemirror_mode": {
    "name": "ipython",
    "version": 3
   },
   "file_extension": ".py",
   "mimetype": "text/x-python",
   "name": "python",
   "nbconvert_exporter": "python",
   "pygments_lexer": "ipython3",
   "version": "3.6.5"
  }
 },
 "nbformat": 4,
 "nbformat_minor": 1
}
